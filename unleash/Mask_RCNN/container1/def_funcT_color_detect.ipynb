{
 "cells": [
  {
   "cell_type": "code",
   "execution_count": null,
   "metadata": {
    "collapsed": true
   },
   "outputs": [],
   "source": [
    "def color_detect(img,img_seg, r):\n",
    "    #show box with person and background\n",
    "\n",
    "    boxes = r['rois']\n",
    "    y1, x1, y2, x2 = boxes[2]\n",
    "    person_image = image_copy[y1:y2, x1:x2]\n",
    "    masked_person_image = person_image\n",
    "    #remove background\n",
    "    boxes = r['rois']\n",
    "    y1, x1, y2, x2 = boxes[2]\n",
    "    mask = image_trans[y1:y2, x1:x2]\n",
    "    mask =cv2.cvtColor(mask,cv2.COLOR_RGB2GRAY)\n",
    "    masked_person_image[mask !=0] = [255,255,255]\n",
    "\n",
    "    #change to HSV colorspace\n",
    "    person_pic = cv2.cvtColor(masked_person_image,cv2.COLOR_BGR2RGB)\n",
    "    skimage.io.imsave('person_pic.jpg',person_pic)\n",
    "    img = person_pic\n",
    "    img_hsv = cv2.cvtColor(person_pic, cv2.COLOR_RGB2HSV)\n",
    "\n",
    "    #color filter\n",
    "    # lower mask (0-10)\n",
    "    lower_red = np.array([0,100,100])\n",
    "    upper_red = np.array([10,255,255])\n",
    "    mask0 = cv2.inRange(img_hsv, lower_red, upper_red)\n",
    "\n",
    "    # upper mask (170-180)\n",
    "    lower_red = np.array([150,100,100])\n",
    "    upper_red = np.array([180,255,255])\n",
    "    mask1 = cv2.inRange(img_hsv, lower_red, upper_red)\n",
    "\n",
    "    # join my masks\n",
    "    mask = mask0+mask1\n",
    "\n",
    "    # set my output img to zero everywhere except my mask\n",
    "    output_img = img.copy()\n",
    "    output_img[np.where(mask==0)] = 0\n",
    "\n",
    "    # or your HSV image, which I *believe* is what you want\n",
    "    output_hsv = img_hsv.copy()\n",
    "    output_hsv[np.where(mask==0)] = 0\n",
    "    #mean value of pixels\n",
    "    mean_pic = np.mean(output_hsv)\n",
    "    mean_pic\n",
    "    \n",
    "    return mean_pic"
   ]
  }
 ],
 "metadata": {
  "kernelspec": {
   "display_name": "Python 3",
   "language": "python",
   "name": "python3"
  },
  "language_info": {
   "codemirror_mode": {
    "name": "ipython",
    "version": 3
   },
   "file_extension": ".py",
   "mimetype": "text/x-python",
   "name": "python",
   "nbconvert_exporter": "python",
   "pygments_lexer": "ipython3",
   "version": "3.6.3"
  }
 },
 "nbformat": 4,
 "nbformat_minor": 2
}
